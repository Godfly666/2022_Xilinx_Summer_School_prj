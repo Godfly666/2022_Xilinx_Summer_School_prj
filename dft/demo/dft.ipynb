{
 "cells": [
  {
   "cell_type": "markdown",
   "metadata": {},
   "source": [
    "# 离散傅里叶变换"
   ]
  },
  {
   "cell_type": "markdown",
   "metadata": {},
   "source": [
    "这个 notebook 展示硬件加速 DFT 的效果。由于未用到 FFT 算法，所以不是最快的实现。"
   ]
  },
  {
   "cell_type": "markdown",
   "metadata": {},
   "source": [
    "## 导入 Overlay"
   ]
  },
  {
   "cell_type": "markdown",
   "metadata": {},
   "source": [
    "导入 Overlay 并查看 ip 名称："
   ]
  },
  {
   "cell_type": "code",
   "execution_count": 27,
   "metadata": {},
   "outputs": [
    {
     "name": "stdout",
     "output_type": "stream",
     "text": [
      "dft_0\n"
     ]
    }
   ],
   "source": [
    "from pynq import Overlay\n",
    "overlay = Overlay(\"./dft.bit\")\n",
    "for key in overlay.ip_dict: # 查看所有ip\n",
    "    print(key)"
   ]
  },
  {
   "cell_type": "markdown",
   "metadata": {},
   "source": [
    "得到 ip 的名称为 dft_0："
   ]
  },
  {
   "cell_type": "code",
   "execution_count": 28,
   "metadata": {},
   "outputs": [],
   "source": [
    "dft = overlay.dft_0"
   ]
  },
  {
   "cell_type": "markdown",
   "metadata": {},
   "source": [
    "查看 ip 的寄存器："
   ]
  },
  {
   "cell_type": "code",
   "execution_count": 29,
   "metadata": {},
   "outputs": [
    {
     "data": {
      "text/plain": [
       "RegisterMap {\n",
       "  CTRL = Register(AP_START=0, AP_DONE=0, AP_IDLE=1, AP_READY=0, RESERVED_1=0, AUTO_RESTART=0, RESERVED_2=0),\n",
       "  GIER = Register(Enable=0, RESERVED=0),\n",
       "  IP_IER = Register(CHAN0_INT_EN=0, CHAN1_INT_EN=0, RESERVED=0),\n",
       "  IP_ISR = Register(CHAN0_INT_ST=0, CHAN1_INT_ST=0, RESERVED=0),\n",
       "  real_sample_1 = Register(real_sample=402960384),\n",
       "  real_sample_2 = Register(real_sample=0),\n",
       "  imag_sample_1 = Register(imag_sample=402980864),\n",
       "  imag_sample_2 = Register(imag_sample=0),\n",
       "  real_op_1 = Register(real_op=402984960),\n",
       "  real_op_2 = Register(real_op=0),\n",
       "  imag_op_1 = Register(imag_op=402968576),\n",
       "  imag_op_2 = Register(imag_op=0)\n",
       "}"
      ]
     },
     "execution_count": 29,
     "metadata": {},
     "output_type": "execute_result"
    }
   ],
   "source": [
    "dft.register_map"
   ]
  },
  {
   "cell_type": "markdown",
   "metadata": {},
   "source": [
    "查看各寄存器的地址："
   ]
  },
  {
   "cell_type": "code",
   "execution_count": 30,
   "metadata": {},
   "outputs": [
    {
     "name": "stdout",
     "output_type": "stream",
     "text": [
      "10\n",
      "1c\n",
      "28\n",
      "34\n"
     ]
    }
   ],
   "source": [
    "print(format(dft.register_map.real_sample_1.address, 'x'))\n",
    "print(format(dft.register_map.imag_sample_1.address, 'x'))\n",
    "print(format(dft.register_map.real_op_1.address, 'x'))\n",
    "print(format(dft.register_map.imag_op_1.address, 'x'))"
   ]
  },
  {
   "cell_type": "markdown",
   "metadata": {},
   "source": [
    "---"
   ]
  },
  {
   "cell_type": "markdown",
   "metadata": {},
   "source": [
    "## Allocate 创建缓冲区"
   ]
  },
  {
   "cell_type": "markdown",
   "metadata": {},
   "source": [
    "用 allocate 创建缓冲区，并写入输入数据："
   ]
  },
  {
   "cell_type": "code",
   "execution_count": 31,
   "metadata": {},
   "outputs": [
    {
     "name": "stdout",
     "output_type": "stream",
     "text": [
      "[ 0.54881352  0.71518934  0.60276335  0.54488319  0.42365479  0.64589411\n",
      "  0.4375872   0.89177299  0.96366274  0.38344151]\n",
      "[ 0.77827615  0.84834528  0.49041989  0.18534859  0.99581528  0.12935576\n",
      "  0.47145733  0.0680931   0.94385087  0.96492493]\n"
     ]
    }
   ],
   "source": [
    "from pynq import allocate\n",
    "import numpy as np\n",
    "size = 1024\n",
    "input_buffer_1 = allocate(shape=(size,), dtype='f4')\n",
    "input_buffer_2 = allocate(shape=(size,), dtype='f4')\n",
    "output_buffer_1 = allocate(shape=(size,), dtype='f4')\n",
    "output_buffer_2 = allocate(shape=(size,), dtype='f4')\n",
    "\n",
    "np.random.seed(0)\n",
    "# real_in = np.ones(shape=(1024,), dtype='f4')\n",
    "# imag_in = np.zeros(shape=(1024,), dtype='f4')\n",
    "real_in = np.random.random((1024,))\n",
    "imag_in = np.random.random((1024,))\n",
    "\n",
    "np.copyto(input_buffer_1, real_in)\n",
    "np.copyto(input_buffer_2, imag_in)\n",
    "\n",
    "print(input_buffer_1[0:10])\n",
    "print(input_buffer_2[0:10])"
   ]
  },
  {
   "cell_type": "markdown",
   "metadata": {},
   "source": [
    "将缓冲区的地址写到 ip 的寄存器中："
   ]
  },
  {
   "cell_type": "code",
   "execution_count": 32,
   "metadata": {},
   "outputs": [],
   "source": [
    "dft.write(0x10, input_buffer_1.physical_address)\n",
    "dft.write(0x1c, input_buffer_2.physical_address)\n",
    "dft.write(0x28, output_buffer_1.physical_address)\n",
    "dft.write(0x34, output_buffer_2.physical_address)"
   ]
  },
  {
   "cell_type": "markdown",
   "metadata": {},
   "source": [
    "---"
   ]
  },
  {
   "cell_type": "markdown",
   "metadata": {},
   "source": [
    "## 运行 IP"
   ]
  },
  {
   "cell_type": "markdown",
   "metadata": {},
   "source": [
    "运行 IP 并计时："
   ]
  },
  {
   "cell_type": "code",
   "execution_count": 33,
   "metadata": {},
   "outputs": [
    {
     "name": "stdout",
     "output_type": "stream",
     "text": [
      "耗时：0.01782536506652832s\n"
     ]
    }
   ],
   "source": [
    "import time\n",
    "\n",
    "dft.write(0x00, 0x01)\n",
    "start_time = time.time()\n",
    "while True:\n",
    "    reg = dft.read(0x00)\n",
    "    if reg != 1:\n",
    "        break\n",
    "end_time = time.time()\n",
    "\n",
    "print(\"耗时：{}s\".format(end_time - start_time))"
   ]
  },
  {
   "cell_type": "markdown",
   "metadata": {},
   "source": [
    "查看计算结果："
   ]
  },
  {
   "cell_type": "code",
   "execution_count": 34,
   "metadata": {},
   "outputs": [
    {
     "name": "stdout",
     "output_type": "stream",
     "text": [
      "[ 506.74743652 +5.22333923e+02j    8.50856686 -9.61070824e+00j\n",
      "    5.17804146 -6.18007779e-03j   -5.57392788 -8.27330017e+00j\n",
      "    4.22003651 +6.31724644e+00j    4.42737579 +3.13718653e+00j\n",
      "   -7.51551008 +9.44968283e-01j   17.26153946 +1.53106999e+00j\n",
      "   19.68187714 +7.86181021e+00j   -1.89949572 -9.49977398e+00j]\n"
     ]
    }
   ],
   "source": [
    "rst_hw = output_buffer_1 + output_buffer_2*1j\n",
    "print(rst_hw[0:10])"
   ]
  },
  {
   "cell_type": "markdown",
   "metadata": {},
   "source": [
    "---"
   ]
  },
  {
   "cell_type": "markdown",
   "metadata": {},
   "source": [
    "## 结果与讨论"
   ]
  },
  {
   "cell_type": "markdown",
   "metadata": {},
   "source": [
    "与软件计算结果对比："
   ]
  },
  {
   "cell_type": "code",
   "execution_count": 35,
   "metadata": {},
   "outputs": [
    {
     "name": "stdout",
     "output_type": "stream",
     "text": [
      "耗时：0.0024955272674560547 s\n",
      "[ 506.74752192 +5.22334173e+02j    8.50859753 -9.61077954e+00j\n",
      "    5.17805970 -6.18167449e-03j   -5.57394648 -8.27328398e+00j\n",
      "    4.22003839 +6.31722764e+00j    4.42736651 +3.13717990e+00j\n",
      "   -7.51552925 +9.44970169e-01j   17.26157257 +1.53107281e+00j\n",
      "   19.68191240 +7.86180915e+00j   -1.89950851 -9.49974523e+00j]\n",
      "RMSE: 1.4750579194844413e-05\n"
     ]
    }
   ],
   "source": [
    "start_time = time.time()\n",
    "rst_ps = np.fft.fft(real_in+imag_in*1j)\n",
    "end_time = time.time()\n",
    "\n",
    "print(\"耗时：{} s\".format(end_time - start_time))\n",
    "print(rst_ps[0:10])\n",
    "rmse = np.sqrt((np.abs(rst_ps-rst_hw) ** 2).sum()/1024)\n",
    "print(\"RMSE: {}\".format(rmse))"
   ]
  },
  {
   "cell_type": "markdown",
   "metadata": {},
   "source": [
    "可见\n",
    "\n",
    "(1) RMSE（均方根误差）很小，输出结果正确。\n",
    "\n",
    "(2) 软件耗时为 2 毫秒，而硬件耗时为 17 毫秒。硬件反而比软件慢一些。\n",
    "\n",
    "这是因为软件部分使用的是快速傅里叶变换算法，而硬件部分没有使用快速傅里叶变换算法。\n",
    "\n",
    "不过即使是这样，两者也已经比较接近了。\n"
   ]
  },
  {
   "cell_type": "markdown",
   "metadata": {},
   "source": [
    "\n",
    "---"
   ]
  },
  {
   "cell_type": "markdown",
   "metadata": {},
   "source": [
    "如果使用PS，且不用快速傅里叶变换算法（即直接用 tb 作为软件设计，已实现在 `./ps_time_used` 文件夹下），则运行结果如下："
   ]
  },
  {
   "cell_type": "code",
   "execution_count": 36,
   "metadata": {},
   "outputs": [
    {
     "name": "stdout",
     "output_type": "stream",
     "text": [
      "time used: 214155 us\r\n",
      "----------------------------------------------\r\n",
      "   RMSE(R)           RMSE(I)\r\n",
      "0.001853297697380 0.001314980210736\r\n",
      "----------------------------------------------\r\n",
      "*******************************************\r\n",
      "PASS: The output matches the golden output!\r\n",
      "*******************************************\r\n"
     ]
    }
   ],
   "source": [
    "import os\n",
    "os.chdir(\"./ps_time_used\")\n",
    "!./a.out\n",
    "os.chdir(\"..\")"
   ]
  },
  {
   "cell_type": "markdown",
   "metadata": {},
   "source": [
    "可以看到运行时间为 20 毫秒，而硬件加速的结果不到 20 毫秒，加速了 10 倍多"
   ]
  },
  {
   "cell_type": "markdown",
   "metadata": {},
   "source": [
    "---"
   ]
  },
  {
   "cell_type": "markdown",
   "metadata": {},
   "source": [
    "# 封装"
   ]
  },
  {
   "cell_type": "markdown",
   "metadata": {},
   "source": [
    "可以继承 DefaultIP 将 IP 的调用封装起来。\n",
    "\n",
    "注意要用 bindto 设置 Driver 绑定到的 IP，本文件夹下的 IP 版本为 1.2。"
   ]
  },
  {
   "cell_type": "code",
   "execution_count": 39,
   "metadata": {},
   "outputs": [],
   "source": [
    "from pynq import DefaultIP\n",
    "\n",
    "class DftDriver(DefaultIP):\n",
    "    bindto = ['xilinx.com:hls:dft:1.2']\n",
    "    def __init__(self, description):\n",
    "        super().__init__(description=description)\n",
    "        self.input_buffer_1 = allocate(shape=(size,), dtype='f4')\n",
    "        self.input_buffer_2 = allocate(shape=(size,), dtype='f4')\n",
    "        self.output_buffer_1 = allocate(shape=(size,), dtype='f4')\n",
    "        self.output_buffer_2 = allocate(shape=(size,), dtype='f4')\n",
    "        dft.write(0x10, input_buffer_1.physical_address)\n",
    "        dft.write(0x1c, input_buffer_2.physical_address)\n",
    "        dft.write(0x28, output_buffer_1.physical_address)\n",
    "        dft.write(0x34, output_buffer_2.physical_address)\n",
    "\n",
    "    def dft(self, inre, inim):      \n",
    "        np.copyto(input_buffer_1, inre)\n",
    "        np.copyto(input_buffer_2, inim)\n",
    "\n",
    "        dft.write(0x00, 0x01)\n",
    "        while True:\n",
    "            reg = dft.read(0x00)\n",
    "            if reg != 1:\n",
    "                break\n",
    "        \n",
    "        np.copyto(outre, output_buffer_1)\n",
    "        np.copyto(outim, output_buffer_2)\n",
    "        \n",
    "        self.input_buffer_1.freebuffer()\n",
    "        self.input_buffer_2.freebuffer()\n",
    "        self.output_buffer_1.freebuffer()\n",
    "        self.output_buffer_2.freebuffer()\n",
    "        \n",
    "        return outre, outim"
   ]
  },
  {
   "cell_type": "markdown",
   "metadata": {},
   "source": [
    "调用 IP："
   ]
  },
  {
   "cell_type": "code",
   "execution_count": 41,
   "metadata": {},
   "outputs": [
    {
     "name": "stdout",
     "output_type": "stream",
     "text": [
      "耗时：0.018622636795043945 s\n",
      "RMSE: 1.4750579194844413e-05\n"
     ]
    }
   ],
   "source": [
    "overlay = Overlay(\"./dft.bit\")\n",
    "dft = overlay.dft_0\n",
    "\n",
    "start_time = time.time()\n",
    "real_out, imag_out = dft.dft(real_in, imag_in)\n",
    "end_time = time.time()\n",
    "print(\"耗时：{} s\".format(end_time - start_time))\n",
    "\n",
    "rst_hw = real_out + imag_out*1j\n",
    "rmse = np.sqrt((np.abs(rst_ps-rst_hw) ** 2).sum()/1024)\n",
    "print(\"RMSE: {}\".format(rmse))"
   ]
  }
 ],
 "metadata": {
  "kernelspec": {
   "display_name": "Python 3",
   "language": "python",
   "name": "python3"
  },
  "language_info": {
   "codemirror_mode": {
    "name": "ipython",
    "version": 3
   },
   "file_extension": ".py",
   "mimetype": "text/x-python",
   "name": "python",
   "nbconvert_exporter": "python",
   "pygments_lexer": "ipython3",
   "version": "3.6.5"
  }
 },
 "nbformat": 4,
 "nbformat_minor": 2
}
